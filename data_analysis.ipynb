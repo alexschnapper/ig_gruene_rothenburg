{
 "cells": [
  {
   "cell_type": "code",
   "execution_count": null,
   "metadata": {
    "vscode": {
     "languageId": "plaintext"
    }
   },
   "outputs": [],
   "source": [
    "import pandas as pd\n",
    "import plotly.express as px\n",
    "\n",
    "# Daten laden\n",
    "df = pd.read_csv('data/instagram_data.csv')\n",
    "posts_per_month = pd.read_csv('data/posts_per_month.csv', index_col=0)\n",
    "impressions_per_month = pd.read_csv('data/impressions_per_month.csv', index_col=0)\n",
    "reach_per_month = pd.read_csv('data/reach_per_month.csv', index_col=0)\n",
    "engagement_per_month = pd.read_csv('data/engagement_per_month.csv', index_col=0)\n",
    "\n",
    "# Daten analysieren\n",
    "df['timestamp'] = pd.to_datetime(df['timestamp'])\n",
    "df['year_month'] = df['timestamp'].dt.to_period('M')\n",
    "\n",
    "# Anzahl der Beiträge pro Monat\n",
    "fig_posts = px.bar(posts_per_month, x=posts_per_month.index, y=posts_per_month.values, title='Posts per Month')\n",
    "\n",
    "# Impressions pro Monat\n",
    "fig_impressions = px.line(impressions_per_month, x=impressions_per_month.index, y=impressions_per_month.values, title='Impressions per Month')\n",
    "\n",
    "# Reach pro Monat\n",
    "fig_reach = px.line(reach_per_month, x=reach_per_month.index, y=reach_per_month.values, title='Reach per Month')\n",
    "\n",
    "# Engagement pro Monat\n",
    "fig_engagement = px.line(engagement_per_month, x=engagement_per_month.index, y=engagement_per_month.values, title='Engagement per Month')\n",
    "\n",
    "# Anzeigen der Diagramme\n",
    "fig_posts.show()\n",
    "fig_impressions.show()\n",
    "fig_reach.show()\n",
    "fig_engagement.show()"
   ]
  }
 ],
 "metadata": {
  "language_info": {
   "name": "python"
  }
 },
 "nbformat": 4,
 "nbformat_minor": 2
}
